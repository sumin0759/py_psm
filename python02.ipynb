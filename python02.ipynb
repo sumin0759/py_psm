{
 "cells": [
  {
   "cell_type": "markdown",
   "id": "8f9f6fee-fdf6-47a2-906f-5082ffa1f216",
   "metadata": {},
   "source": [
    "# 자료형"
   ]
  },
  {
   "cell_type": "markdown",
   "id": "1c6022aa-b6de-4905-b575-87cc38f879ea",
   "metadata": {},
   "source": [
    "## 리스트 자료형"
   ]
  },
  {
   "cell_type": "markdown",
   "id": "4f92b732-7eb7-48ab-9214-3efcf16d2a71",
   "metadata": {},
   "source": [
    "### 리스트의 인덱싱과 슬라이싱"
   ]
  },
  {
   "cell_type": "code",
   "execution_count": 1,
   "id": "a28260c9-f05f-4700-924b-603f21f9171b",
   "metadata": {},
   "outputs": [],
   "source": [
    "odd = [1,3,5,7,9]"
   ]
  },
  {
   "cell_type": "code",
   "execution_count": 10,
   "id": "2c86ac1b-9a25-43ac-b0f0-16fd983fb69c",
   "metadata": {},
   "outputs": [
    {
     "name": "stdout",
     "output_type": "stream",
     "text": [
      "['Life', 'is']\n",
      "Life\n",
      "is\n"
     ]
    }
   ],
   "source": [
    "# 리스트의 인덱싱 / [요소]\n",
    "a = []\n",
    "b = [1,2,3]\n",
    "c = ['Life','is','too','short']\n",
    "d = [1,2,'Life','is']\n",
    "e = [1,2,['Life','is']]\n",
    "print(e[2])\n",
    "print(e[2][0])\n",
    "print(e[2][1])"
   ]
  },
  {
   "cell_type": "code",
   "execution_count": 13,
   "id": "ac1a6799-00fe-48cc-9baf-93f305df3754",
   "metadata": {},
   "outputs": [
    {
     "name": "stdout",
     "output_type": "stream",
     "text": [
      "5\n",
      "Lifeshort\n",
      "LifeLifeLife\n"
     ]
    },
    {
     "data": {
      "text/plain": [
       "'short'"
      ]
     },
     "execution_count": 13,
     "metadata": {},
     "output_type": "execute_result"
    }
   ],
   "source": [
    "# 리스트의 인덱싱과 연산\n",
    "print(b[1] + b[2])\n",
    "print(c[0]+c[3])\n",
    "print(c[0]*b[2])\n",
    "c[-1]"
   ]
  },
  {
   "cell_type": "code",
   "execution_count": 18,
   "id": "3a01ccba-ce52-4812-9296-00755dcea701",
   "metadata": {},
   "outputs": [
    {
     "name": "stdout",
     "output_type": "stream",
     "text": [
      "[11, 22, 33, 44, 55]\n",
      "[33, 44, 55]\n",
      "[11, 22]\n",
      "[44, 55]\n",
      "[11, 22]\n",
      "[55, 44, 33, 22, 11]\n"
     ]
    }
   ],
   "source": [
    "# 리스트의 슬라이싱\n",
    "a = [11,22,33,44,55]\n",
    "print(a[:])\n",
    "print(a[2:])\n",
    "print(a[:-3])\n",
    "print(a[-2:])\n",
    "print(a[0:2])\n",
    "print(a[::-1])"
   ]
  },
  {
   "cell_type": "code",
   "execution_count": 20,
   "id": "c4d24c1b-ff0f-4fab-899c-2ed7eef87d76",
   "metadata": {},
   "outputs": [
    {
     "name": "stdout",
     "output_type": "stream",
     "text": [
      "[2, 3]\n"
     ]
    }
   ],
   "source": [
    "a = [1,2,3,4,5]\n",
    "print(a[1:3])"
   ]
  },
  {
   "cell_type": "markdown",
   "id": "407735e2-9364-403b-a291-76d07f81791c",
   "metadata": {},
   "source": [
    "### 리스트 연산&수정&삭제"
   ]
  },
  {
   "cell_type": "code",
   "execution_count": 28,
   "id": "78feb6c7-f02b-4e9c-87be-3a954ba6bfdb",
   "metadata": {},
   "outputs": [
    {
     "name": "stdout",
     "output_type": "stream",
     "text": [
      "[11, 22, 33, 44, 55, 66]\n",
      "[11, 22, 33, 11, 22, 33, 11, 22, 33]\n",
      "3\n",
      "[11, 22, 33, 11, 22, 33, 11, 22, 33]\n"
     ]
    },
    {
     "data": {
      "text/plain": [
       "9"
      ]
     },
     "execution_count": 28,
     "metadata": {},
     "output_type": "execute_result"
    }
   ],
   "source": [
    "# 더하기 / 문자와 숫자는 더할 수 없음!\n",
    "a = [11,22,33]\n",
    "b = [44,55,66]\n",
    "print(a+b)\n",
    "\n",
    "# 반복하기\n",
    "a = [11,22,33]\n",
    "print(a*3)\n",
    "\n",
    "# 리스트 길이\n",
    "a = [11,22,33]\n",
    "print(len(a))\n",
    "\n",
    "# 반복 & 리스트\n",
    "c = a * 3\n",
    "print(c)\n",
    "len(c)"
   ]
  },
  {
   "cell_type": "code",
   "execution_count": 33,
   "id": "9ecbdbc4-b8eb-4bb3-ab81-23f19ddcd3e5",
   "metadata": {},
   "outputs": [
    {
     "name": "stdout",
     "output_type": "stream",
     "text": [
      "[11, 22, 44]\n",
      "[11, 44]\n",
      "[11, 22, 33, 11, 22, 33, 11, 22, 33]\n",
      "[22, 33, 11, 22, 33]\n"
     ]
    }
   ],
   "source": [
    "# 리스트 값 수정하기 / 수정은 가능하나 생성은 불가\n",
    "a = [11,22,33]\n",
    "a[2] = 44\n",
    "print(a)\n",
    "# a[1] = '' / 빈칸 수정 삽입됨\n",
    "# a[1] = 0 / 0으로 수정 삽입됨\n",
    "\n",
    "# 리스트 요소 삭제하기\n",
    "del a[1]\n",
    "print(a)\n",
    "\n",
    "# 리스트값 슬라이싱으로 삭제\n",
    "print(c)\n",
    "del(c[:4])\n",
    "print(c)"
   ]
  },
  {
   "cell_type": "markdown",
   "id": "594adcb4-6503-4526-afc5-b994eafb1f83",
   "metadata": {},
   "source": [
    "### 리스트 관련 함수"
   ]
  },
  {
   "cell_type": "code",
   "execution_count": null,
   "id": "c3e61c3f-a4af-445c-8ecd-a6c7cc24133f",
   "metadata": {},
   "outputs": [],
   "source": [
    "dir(list)"
   ]
  },
  {
   "cell_type": "code",
   "execution_count": 35,
   "id": "ddb3bcbc-0f40-4a1c-81a7-a1310341735c",
   "metadata": {},
   "outputs": [
    {
     "name": "stdout",
     "output_type": "stream",
     "text": [
      "[]\n"
     ]
    }
   ],
   "source": [
    "# 리스트 요소 비우기\n",
    "c.clear()\n",
    "print(c)"
   ]
  },
  {
   "cell_type": "code",
   "execution_count": 49,
   "id": "6c1c6c9a-f91e-4a4f-984c-defc39afafdf",
   "metadata": {},
   "outputs": [],
   "source": [
    "a = [] # 리스트 초기화"
   ]
  },
  {
   "cell_type": "code",
   "execution_count": 50,
   "id": "8359bbb9-5f10-480e-962e-ff126a9e897b",
   "metadata": {},
   "outputs": [
    {
     "name": "stdout",
     "output_type": "stream",
     "text": [
      "[4]\n",
      "[4, [11, 22]]\n"
     ]
    }
   ],
   "source": [
    "# 리스트 요소 추가 append\n",
    "a.append(4)\n",
    "print(a)\n",
    "a.append([11,22])\n",
    "print(a)"
   ]
  },
  {
   "cell_type": "code",
   "execution_count": 2,
   "id": "61e8e54c-7030-4a1c-8a1d-3df9b324c844",
   "metadata": {},
   "outputs": [],
   "source": [
    "b = []\n",
    "num = 0"
   ]
  },
  {
   "cell_type": "code",
   "execution_count": 6,
   "id": "45c03002-3f5d-4420-a15f-958228e300fc",
   "metadata": {},
   "outputs": [
    {
     "name": "stdout",
     "output_type": "stream",
     "text": [
      "[1, 2, 3, 4]\n"
     ]
    }
   ],
   "source": [
    "num += 1\n",
    "b.append(num)\n",
    "print(b)"
   ]
  },
  {
   "cell_type": "code",
   "execution_count": 9,
   "id": "9c68016b-e5c4-4613-80fe-65b232a63d22",
   "metadata": {},
   "outputs": [
    {
     "name": "stdout",
     "output_type": "stream",
     "text": [
      "[11, 22, 33, 44, 55]\n"
     ]
    }
   ],
   "source": [
    "# 리스트 정렬 sort / 원본 파괴\n",
    "a = [11,44,33,22,55]\n",
    "a.sort()\n",
    "print(a)"
   ]
  },
  {
   "cell_type": "code",
   "execution_count": 13,
   "id": "fd80b359-3327-4cbe-a632-5dd6354bb69d",
   "metadata": {},
   "outputs": [
    {
     "name": "stdout",
     "output_type": "stream",
     "text": [
      "[66, 77, 88, 99, 0]\n",
      "[0, 66, 77, 88, 99]\n",
      "[99, 88, 77, 66, 0]\n"
     ]
    }
   ],
   "source": [
    "# 리스트정렬 원본 유지하기\n",
    "aa = [66,77,88,99,0]\n",
    "bb = sorted(aa)\n",
    "cc = sorted(aa,reverse=True)\n",
    "print(aa)\n",
    "print(bb)\n",
    "print(cc)"
   ]
  },
  {
   "cell_type": "code",
   "execution_count": 10,
   "id": "09cb4f22-b23e-404d-871e-9fdbbda737d6",
   "metadata": {},
   "outputs": [
    {
     "name": "stdout",
     "output_type": "stream",
     "text": [
      "[55, 22, 33, 44, 11]\n"
     ]
    }
   ],
   "source": [
    "# 리스트 뒤집기 reverse\n",
    "a = [11,44,33,22,55]\n",
    "a.reverse()\n",
    "print(a)"
   ]
  },
  {
   "cell_type": "code",
   "execution_count": 2,
   "id": "4c1d8f9a-2f6d-428a-ae06-124aeada4333",
   "metadata": {},
   "outputs": [
    {
     "name": "stdout",
     "output_type": "stream",
     "text": [
      "['banana', 'kiwi', 'orange', 'melon', 'pear', 'apple', 'strawberry', 'blueberry']\n",
      "['kiwi', 'pear', 'melon', 'apple', 'banana', 'orange', 'blueberry', 'strawberry']\n",
      "['strawberry', 'blueberry', 'banana', 'orange', 'melon', 'apple', 'kiwi', 'pear']\n"
     ]
    }
   ],
   "source": [
    "# sorted 응용\n",
    "fruit = ['banana','kiwi','orange','melon','pear','apple','strawberry','blueberry']\n",
    "result = sorted(fruit,key=len)\n",
    "result2 = sorted(fruit,key=len,reverse=True)\n",
    "print(fruit)\n",
    "print(result)\n",
    "print(result2)"
   ]
  },
  {
   "cell_type": "code",
   "execution_count": 5,
   "id": "fa2d933a-c7e7-4a30-b706-881cfdf0c7b2",
   "metadata": {},
   "outputs": [
    {
     "name": "stdout",
     "output_type": "stream",
     "text": [
      "kiwi 냠냠 맛있다.\n",
      "pear 냠냠 맛있다.\n",
      "melon 냠냠 맛있다.\n",
      "apple 냠냠 맛있다.\n",
      "banana 냠냠 맛있다.\n",
      "orange 냠냠 맛있다.\n",
      "blueberry 냠냠 맛있다.\n",
      "strawberry 냠냠 맛있다.\n",
      "\n",
      "\n",
      "kiwi 와~ 다먹었다.\n",
      "pear 와~ 다먹었다.\n",
      "melon 와~ 다먹었다.\n",
      "apple 와~ 다먹었다.\n",
      "banana 와~ 다먹었다.\n",
      "orange 와~ 다먹었다.\n",
      "blueberry 와~ 다먹었다.\n",
      "strawberry 와~ 다먹었다.\n"
     ]
    }
   ],
   "source": [
    "for r in result:\n",
    "    print(r+' 냠냠 맛있다.')\n",
    "print(\"\\n\")\n",
    "for R in result:\n",
    "    print(R+' 와~ 다먹었다.')"
   ]
  },
  {
   "cell_type": "code",
   "execution_count": 4,
   "id": "aa861c03-6740-48d4-838d-812f40bd51bc",
   "metadata": {},
   "outputs": [
    {
     "name": "stdout",
     "output_type": "stream",
     "text": [
      "kiwi 냠냠 맛있다.\n",
      "pear 냠냠 맛있다.\n",
      "melon 냠냠 맛있다.\n",
      "apple 냠냠 맛있다.\n",
      "banana못먹겠어! 웩\n",
      "orange 냠냠 맛있다.\n",
      "blueberry 냠냠 맛있다.\n",
      "strawberry 냠냠 맛있다.\n"
     ]
    }
   ],
   "source": [
    "for r in result:\n",
    "    if r == 'banana':\n",
    "        print(r+'못먹겠어! 웩')\n",
    "    if r != 'banana':\n",
    "        print(r+' 냠냠 맛있다.')"
   ]
  },
  {
   "cell_type": "code",
   "execution_count": 36,
   "id": "5042aade-4300-4e7d-a7c5-dc43ea26d5be",
   "metadata": {},
   "outputs": [
    {
     "data": {
      "text/plain": [
       "3"
      ]
     },
     "execution_count": 36,
     "metadata": {},
     "output_type": "execute_result"
    }
   ],
   "source": [
    "# 인덱스 반환 index\n",
    "fruit = ['banana','kiwi','orange','melon','pear','apple','strawberry','blueberry']\n",
    "fruit.index('melon')\n",
    "\n",
    "# fruit.index('melon') / 없는걸 물어볼 경우 오류..\n",
    "# fruit.find('melon') / 없음"
   ]
  },
  {
   "cell_type": "code",
   "execution_count": 47,
   "id": "3a0c22a5-789b-4145-9bb2-fb99a211e5c7",
   "metadata": {},
   "outputs": [
    {
     "name": "stdin",
     "output_type": "stream",
     "text": [
      "먹고싶은 과일을 입력하세요. apple\n"
     ]
    },
    {
     "name": "stdout",
     "output_type": "stream",
     "text": [
      "apple 를 좋아하시는군요! 그것은 6번 째에 있습니다.\n"
     ]
    }
   ],
   "source": [
    "# 인덱스 응용\n",
    "fruit = ['banana','kiwi','orange','melon','pear','apple','strawberry','blueberry']\n",
    "want = input('먹고싶은 과일을 입력하세요.')\n",
    "where = fruit.index(want)\n",
    "print(f'{want} 를 좋아하시는군요! 그것은 {where+1}번 째에 있습니다.')"
   ]
  },
  {
   "cell_type": "code",
   "execution_count": 49,
   "id": "6484c44c-e894-4799-8605-ceb437126c3b",
   "metadata": {},
   "outputs": [
    {
     "name": "stdout",
     "output_type": "stream",
     "text": [
      "[11, 22, 33, 44, 55, 66, 77, 88]\n",
      "[11, 22, 33, 44, 44, 55, 66, 77, 88]\n"
     ]
    }
   ],
   "source": [
    "# 리스트에 요소 삽입 insert\n",
    "num = [11,22,33,44,55,66,77,88]\n",
    "print(num)\n",
    "num.insert(3,44)\n",
    "print(num)"
   ]
  },
  {
   "cell_type": "code",
   "execution_count": 71,
   "id": "b45510bf-d395-4a9b-b247-d208c9b4ec16",
   "metadata": {},
   "outputs": [],
   "source": [
    "ex = []"
   ]
  },
  {
   "cell_type": "code",
   "execution_count": 72,
   "id": "d3e4ceac-164c-479f-adbb-ccc9d18ed33c",
   "metadata": {},
   "outputs": [
    {
     "name": "stdout",
     "output_type": "stream",
     "text": [
      "['맨앞']\n",
      "['-1인덱스', '맨앞']\n",
      "['맨앞', '-1인덱스', '맨앞']\n",
      "['맨앞', '-1인덱스', '맨앞', '제일 끝']\n"
     ]
    }
   ],
   "source": [
    "ex.insert(0,'맨앞')\n",
    "print(ex)\n",
    "ex.insert(-1,'-1인덱스')\n",
    "print(ex)\n",
    "ex.insert(0,'맨앞')\n",
    "print(ex)\n",
    "ex.insert(len(ex),'제일 끝')\n",
    "print(ex)"
   ]
  },
  {
   "cell_type": "code",
   "execution_count": null,
   "id": "36012b19-5e85-4e2a-b60d-3f195fe4b5a4",
   "metadata": {},
   "outputs": [],
   "source": []
  },
  {
   "cell_type": "code",
   "execution_count": null,
   "id": "c75072f7-89fe-41bd-a78c-14ddbc03471b",
   "metadata": {},
   "outputs": [],
   "source": []
  }
 ],
 "metadata": {
  "kernelspec": {
   "display_name": "Python 3 (ipykernel)",
   "language": "python",
   "name": "python3"
  },
  "language_info": {
   "codemirror_mode": {
    "name": "ipython",
    "version": 3
   },
   "file_extension": ".py",
   "mimetype": "text/x-python",
   "name": "python",
   "nbconvert_exporter": "python",
   "pygments_lexer": "ipython3",
   "version": "3.13.1"
  }
 },
 "nbformat": 4,
 "nbformat_minor": 5
}
