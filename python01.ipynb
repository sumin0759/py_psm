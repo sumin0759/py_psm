{
 "cells": [
  {
   "cell_type": "markdown",
   "id": "1bfe9af2-6192-4b44-b540-1fa32501f573",
   "metadata": {},
   "source": [
    "# 주피터랩 단축키\n",
    "- a : 위쪽 셀 추가\n",
    "- b : 아래쪽 셀 추가\n",
    "- 1,2,3.. : 글자 크기 / 1이 제일 큼\n",
    "- Ctrl+shift+위 : 셀 위로 이동\n",
    "- Ctrl+shift+아래 : 셀 아래로 이동\n",
    "- shift+Enter : 셀 실행\n",
    "- dd : 셀 삭제\n",
    "- x : 셀 잘라내기\n",
    "- c : 셀 복사\n",
    "- v : 셀 붙여넣기\n",
    "- z : undo (되살리기)\n",
    "- shift+Z : redo (다시진행)"
   ]
  },
  {
   "cell_type": "markdown",
   "id": "67aaf824-3483-4ae5-936b-c96232e6d76a",
   "metadata": {},
   "source": [
    "# 기초\n"
   ]
  },
  {
   "cell_type": "code",
   "execution_count": 1,
   "id": "847566e4-e36a-42a9-b85e-36f296d7f357",
   "metadata": {},
   "outputs": [
    {
     "name": "stdout",
     "output_type": "stream",
     "text": [
      "주피터랩에 처음이에요\n",
      "사실은 두번째~\n"
     ]
    }
   ],
   "source": [
    "print('주피터랩에 처음이에요')\n",
    "print('사실은 두번째~')\n",
    "# Code에서 글 앞머리에 # 추가 시 주석처리됨"
   ]
  },
  {
   "cell_type": "code",
   "execution_count": 2,
   "id": "90cc5042-a807-4551-a4fe-5d37d2c19709",
   "metadata": {},
   "outputs": [
    {
     "name": "stdout",
     "output_type": "stream",
     "text": [
      "4610\n"
     ]
    }
   ],
   "source": [
    "print(1277+3333)"
   ]
  },
  {
   "cell_type": "code",
   "execution_count": 3,
   "id": "8b291f6e-3923-4063-a706-763e70b705d4",
   "metadata": {},
   "outputs": [
    {
     "name": "stdout",
     "output_type": "stream",
     "text": [
      "배고프다배고프다\n",
      "근데말입니다.배고프다"
     ]
    }
   ],
   "source": [
    "print('배고프다',end='')\n",
    "print('배고프다',end='\\n')\n",
    "print('근데',end='말입니다.')\n",
    "# '문자'를 출력하고, 끝에 '말입니다.'를 붙임\n",
    "# end='' : 그 다음과 이어서 출력 (여러줄을 한줄로 출력 시)\n",
    "# end='\\n' : 줄 띄움\n",
    "print('배고프다',end='\\r') \n",
    "# 앞으로 커서 이동 (한줄에 계속 차례로 출력하게 됨)"
   ]
  },
  {
   "cell_type": "code",
   "execution_count": 4,
   "id": "89ba597e-54d1-4939-89ea-3bfae6385c5a",
   "metadata": {},
   "outputs": [
    {
     "name": "stdout",
     "output_type": "stream",
     "text": [
      "시간이 많이 남았어..\n"
     ]
    }
   ],
   "source": [
    "import time as t\n",
    "print('배고프다',end='\\r')\n",
    "t.sleep(1)\n",
    "print('근데',end='\\r')\n",
    "t.sleep(1)\n",
    "print('시간이 많이 남았어..') "
   ]
  },
  {
   "cell_type": "code",
   "execution_count": 5,
   "id": "89011d4d-7b23-4596-b593-3707b0078b9f",
   "metadata": {},
   "outputs": [
    {
     "name": "stdout",
     "output_type": "stream",
     "text": [
      "1-2-3-4-5\n"
     ]
    }
   ],
   "source": [
    "print(1,2,3,4,5, sep='-')"
   ]
  },
  {
   "cell_type": "markdown",
   "id": "d4cc6bf9-380a-4d83-820b-184a9a778d59",
   "metadata": {},
   "source": [
    "# 자료형"
   ]
  },
  {
   "cell_type": "markdown",
   "id": "0ed205b3-4fd6-4910-ae51-8f7f928fb85e",
   "metadata": {},
   "source": [
    "## 숫자형"
   ]
  },
  {
   "cell_type": "code",
   "execution_count": 6,
   "id": "a4679776-56b5-4c2f-9c02-fd0943931ae8",
   "metadata": {},
   "outputs": [
    {
     "name": "stdout",
     "output_type": "stream",
     "text": [
      "덧셈 877\n",
      "\n",
      "뺼셈 677 !! 곱셈 77700 !! 나눗셈 7.77 !! 몫 7 !! 니머지 77 !! 승 603729 !! "
     ]
    }
   ],
   "source": [
    "# 사칙연산 예시\n",
    "sachik = 777\n",
    "sem = 100\n",
    "print('덧셈',sachik + sem, end='\\n\\n') #2줄 띄우고 싶으면 \\n 2번 사용하면 됨\n",
    "print('뺼셈',sachik - sem, end=' !! ')\n",
    "print('곱셈',sachik * sem, end=' !! ')\n",
    "print('나눗셈',sachik / sem, end=' !! ')\n",
    "print('몫',sachik // sem, end=' !! ')\n",
    "print('니머지',sachik % sem, end=' !! ')\n",
    "print('승',sachik ** 2, end=' !! ')"
   ]
  },
  {
   "cell_type": "code",
   "execution_count": 7,
   "id": "ac7d8f35-618e-467f-8e70-b32f2597f203",
   "metadata": {},
   "outputs": [
    {
     "name": "stdout",
     "output_type": "stream",
     "text": [
      "덧셈 877\n",
      "==============\n",
      "뺼셈 677\n",
      "==============\n",
      "곱셈 77700\n",
      "==============\n",
      "나눗셈 7.77\n",
      "==============\n",
      "몫 7\n",
      "==============\n",
      "니머지 77\n",
      "==============\n",
      "승 603729\n",
      "==============\n"
     ]
    }
   ],
   "source": [
    "sachik = 777\n",
    "sem = 100\n",
    "print('덧셈',sachik + sem, end='\\n==============\\n')\n",
    "print('뺼셈',sachik - sem, end='\\n==============\\n')\n",
    "print('곱셈',sachik * sem, end='\\n==============\\n')\n",
    "print('나눗셈',sachik / sem, end='\\n==============\\n')\n",
    "print('몫',sachik // sem, end='\\n==============\\n')\n",
    "print('니머지',sachik % sem, end='\\n==============\\n')\n",
    "print('승',sachik ** 2, end='\\n==============\\n')"
   ]
  },
  {
   "cell_type": "code",
   "execution_count": 8,
   "id": "8a3c5c59-cacc-41b0-bcd2-839ae98c5a0c",
   "metadata": {},
   "outputs": [
    {
     "name": "stdout",
     "output_type": "stream",
     "text": [
      "123 -178 0\n"
     ]
    }
   ],
   "source": [
    "# 정수형\n",
    "a = 123\n",
    "b = -178\n",
    "c = 0\n",
    "print(a,b,c)"
   ]
  },
  {
   "cell_type": "code",
   "execution_count": 9,
   "id": "b16b2032-9b6c-4c8f-a084-7c4e80effd1b",
   "metadata": {},
   "outputs": [
    {
     "name": "stdout",
     "output_type": "stream",
     "text": [
      "1.2 -3.14 42400000000.0\n"
     ]
    }
   ],
   "source": [
    "# 실수형\n",
    "aa = 1.2\n",
    "bb = -3.14\n",
    "cc = 4.24e10\n",
    "print(aa,bb,cc)"
   ]
  },
  {
   "cell_type": "code",
   "execution_count": 10,
   "id": "5f8d9ff0-77f5-4cbd-8024-3a65606e6018",
   "metadata": {},
   "outputs": [
    {
     "name": "stdout",
     "output_type": "stream",
     "text": [
      "127\n"
     ]
    }
   ],
   "source": [
    "# 8진수(oct)\n",
    "a = 0o177\n",
    "print(a)"
   ]
  },
  {
   "cell_type": "code",
   "execution_count": 11,
   "id": "116a20ab-7013-4ec1-b412-6d6841ca824f",
   "metadata": {},
   "outputs": [
    {
     "name": "stdout",
     "output_type": "stream",
     "text": [
      "2748\n"
     ]
    }
   ],
   "source": [
    "# 16진수(hex)\n",
    "a = 0x8ff\n",
    "b = 0xabc\n",
    "print(b)"
   ]
  },
  {
   "cell_type": "code",
   "execution_count": 12,
   "id": "2849b927-11a0-43ef-a1ca-02bfabf5a042",
   "metadata": {},
   "outputs": [
    {
     "name": "stdout",
     "output_type": "stream",
     "text": [
      "81\n"
     ]
    }
   ],
   "source": [
    "a = 3\n",
    "b = 4\n",
    "print(a**b)"
   ]
  },
  {
   "cell_type": "code",
   "execution_count": 13,
   "id": "69fe2454-0a63-4fba-a537-6aac9e618030",
   "metadata": {},
   "outputs": [
    {
     "name": "stdout",
     "output_type": "stream",
     "text": [
      "2\n",
      "3\n",
      "4\n"
     ]
    }
   ],
   "source": [
    "# 복합 연산자\n",
    "a = 1\n",
    "a = a + 1    # a += 1 도 가능\n",
    "print(a)\n",
    "a = a + 1\n",
    "print(a)\n",
    "a = a + 1\n",
    "print(a)"
   ]
  },
  {
   "cell_type": "code",
   "execution_count": 14,
   "id": "4dc622c7-256d-45fd-93c8-dfa7e6494524",
   "metadata": {},
   "outputs": [
    {
     "name": "stdout",
     "output_type": "stream",
     "text": [
      "0\n",
      "-1\n",
      "-2\n"
     ]
    }
   ],
   "source": [
    "# 복합 연산자\n",
    "a = 1\n",
    "a -= 1\n",
    "print(a)\n",
    "a -= 1\n",
    "print(a)\n",
    "a -= 1\n",
    "print(a)"
   ]
  },
  {
   "cell_type": "code",
   "execution_count": 15,
   "id": "3e095fb0-3b1b-4cfb-a937-3898f0e74d9a",
   "metadata": {},
   "outputs": [],
   "source": [
    "# 복합 연산자\n",
    "# +=, -=, *=, /=, %=, **="
   ]
  },
  {
   "cell_type": "code",
   "execution_count": 16,
   "id": "1da4a944-2608-4fe1-9c02-5a84d338f13b",
   "metadata": {},
   "outputs": [
    {
     "name": "stdout",
     "output_type": "stream",
     "text": [
      "3262\n"
     ]
    }
   ],
   "source": [
    "a = 10*18**2+2*11\n",
    "print(a)"
   ]
  },
  {
   "cell_type": "code",
   "execution_count": 17,
   "id": "56ba0ef4-d601-4685-bfee-0467a674fabd",
   "metadata": {},
   "outputs": [
    {
     "name": "stdout",
     "output_type": "stream",
     "text": [
      "4\n",
      "2\n"
     ]
    }
   ],
   "source": [
    "a = 14\n",
    "b = 3\n",
    "print(a//b)\n",
    "print(a%b)"
   ]
  },
  {
   "cell_type": "markdown",
   "id": "60abf7c4-6f53-4d19-a204-4799f92b4747",
   "metadata": {},
   "source": [
    "## 문자열 자료형"
   ]
  },
  {
   "cell_type": "markdown",
   "id": "181e30d1-4b6c-4fc0-bc3a-9a41d91a4b88",
   "metadata": {},
   "source": [
    "### 문자열 연산하기"
   ]
  },
  {
   "cell_type": "code",
   "execution_count": 19,
   "id": "9e248c7e-87b2-4841-bc77-d2cc892f5dcb",
   "metadata": {},
   "outputs": [
    {
     "name": "stdout",
     "output_type": "stream",
     "text": [
      "문자형입니다.\n",
      "\n",
      "이것은 여러 줄 문자열 처리입니다.\n",
      "\n",
      "\n",
      "이것도 여러 줄 문자열 입니다.\n",
      "\n"
     ]
    }
   ],
   "source": [
    "# 주석처리입니다.\n",
    "str1 = '문자형입니다.'\n",
    "print(str1)\n",
    "\n",
    "# 여러줄 주석은 공식적으로 지원하는 건 아님\n",
    "str2 = '''\n",
    "이것은 여러 줄 문자열 처리입니다.\n",
    "'''\n",
    "print(str2)\n",
    "\n",
    "str3 = \"\"\"\n",
    "이것도 여러 줄 문자열 입니다.\n",
    "\"\"\"\n",
    "print(str3)"
   ]
  },
  {
   "cell_type": "code",
   "execution_count": 20,
   "id": "87f1faf4-a7b7-4d35-a7aa-3327267bfbb6",
   "metadata": {},
   "outputs": [
    {
     "name": "stdout",
     "output_type": "stream",
     "text": [
      "python's favorite food is perl\n",
      "python's favorite food is perl\n"
     ]
    }
   ],
   "source": [
    "# food = 'python's favorite food is perl' / 인식이 불가하여 에러(구문오류) 발생\n",
    "food = 'python\\'s favorite food is perl'  # 작은따옴표 전 역슬래시를 넣어주어 문자열에 포함시키면 정상적으로 작동\n",
    "print(food)\n",
    "food1 = \"python's favorite food is perl\"\n",
    "print(food1)"
   ]
  },
  {
   "cell_type": "code",
   "execution_count": 21,
   "id": "0cd47020-9c26-4b57-b2a9-c332490e5eb3",
   "metadata": {
    "jp-MarkdownHeadingCollapsed": true
   },
   "outputs": [
    {
     "name": "stdout",
     "output_type": "stream",
     "text": [
      "Python's favorite food is perl \"Python is very easy.\" he says.\n"
     ]
    }
   ],
   "source": [
    "# say = '\"Python is very easy.\" he says.' / 작은따옴표 안에 사용한 큰 따옴표는 문자열을 만드는 기호로 인식 불가\n",
    "food = 'Python\\'s favorite food is perl'\n",
    "say = \"\\\"Python is very easy.\\\" he says.\"\n",
    "print(food,say)"
   ]
  },
  {
   "cell_type": "code",
   "execution_count": 22,
   "id": "f016f965-be4b-4105-8426-f237ffe3aa6e",
   "metadata": {},
   "outputs": [
    {
     "name": "stdout",
     "output_type": "stream",
     "text": [
      "Life is too short\n",
      "You need python\n"
     ]
    }
   ],
   "source": [
    "multiline = \"Life is too short\\nYou need python\"\n",
    "print(multiline)"
   ]
  },
  {
   "cell_type": "code",
   "execution_count": 23,
   "id": "ff6de6fa-50c9-4513-9675-2c38e77665e7",
   "metadata": {},
   "outputs": [
    {
     "name": "stdout",
     "output_type": "stream",
     "text": [
      "\n",
      "Life is too short\n",
      "You need python\n",
      "\n"
     ]
    }
   ],
   "source": [
    "multiline = '''\n",
    "Life is too short\n",
    "You need python\n",
    "'''\n",
    "print(multiline)"
   ]
  },
  {
   "cell_type": "markdown",
   "id": "b6ad9300-b020-4c20-a1ff-db87e888dbc4",
   "metadata": {},
   "source": [
    "<table>\n",
    "<thead>\n",
    "<tr>\n",
    "<th>코드</th>\n",
    "<th>설명</th>\n",
    "</tr>\n",
    "</thead>\n",
    "<tbody>\n",
    "<tr>\n",
    "<td><code>\\n</code></td>\n",
    "<td>문자열 안에서 줄을 바꿀 때 사용</td>\n",
    "</tr>\n",
    "<tr>\n",
    "<td><code>\\t</code></td>\n",
    "<td>문자열 사이에 탭 간격을 줄 때 사용</td>\n",
    "</tr>\n",
    "<tr>\n",
    "<td><code>\\\\</code></td>\n",
    "<td><code>\\</code>를 그대로 표현할 때 사용</td>\n",
    "</tr>\n",
    "<tr>\n",
    "<td><code>\\'</code></td>\n",
    "<td>작은따옴표(')를 그대로 표현할 때 사용</td>\n",
    "</tr>\n",
    "<tr>\n",
    "<td><code>\\\"</code></td>\n",
    "<td>큰따옴표(\")를 그대로 표현할 때 사용</td>\n",
    "</tr>\n",
    "<tr>\n",
    "<td><code>\\r</code></td>\n",
    "<td>캐리지 리턴(줄 바꿈 문자, 커서를 현재 줄의 가장 앞으로 이동)</td>\n",
    "</tr>\n",
    "<tr>\n",
    "<td><code>\\f</code></td>\n",
    "<td>폼 피드(줄 바꿈 문자, 커서를 현재 줄의 다음 줄로 이동)</td>\n",
    "</tr>\n",
    "<tr>\n",
    "<td><code>\\a</code></td>\n",
    "<td>벨 소리(출력할 때 PC 스피커에서 '삑' 소리가 난다)</td>\n",
    "</tr>\n",
    "<tr>\n",
    "<td><code>\\b</code></td>\n",
    "<td>백 스페이스</td>\n",
    "</tr>\n",
    "<tr>\n",
    "<td><code>\\000</code></td>\n",
    "<td>널 문자</td>\n",
    "</tr>\n",
    "</tbody>\n",
    "</table>"
   ]
  },
  {
   "cell_type": "code",
   "execution_count": 24,
   "id": "2ae834c8-7ff6-4311-b249-f01e8da37fe0",
   "metadata": {},
   "outputs": [
    {
     "name": "stdout",
     "output_type": "stream",
     "text": [
      "Python is fun!\n"
     ]
    }
   ],
   "source": [
    "# 문자열 연산하기\n",
    "head = \"Python\"\n",
    "tail = \" is fun!\"\n",
    "print(head + tail)"
   ]
  },
  {
   "cell_type": "code",
   "execution_count": 25,
   "id": "acf9411f-6c83-46b1-a06b-0558b9b7acf2",
   "metadata": {},
   "outputs": [
    {
     "name": "stdout",
     "output_type": "stream",
     "text": [
      "pythonpython\n",
      "python python \n",
      "python\n",
      "python\n",
      "\n"
     ]
    }
   ],
   "source": [
    "# 문자열 곱하기\n",
    "a = \"python\"\n",
    "print(a * 2)\n",
    "\n",
    "b = \"python\" + \" \"\n",
    "print(b * 2)\n",
    "\n",
    "c = \"python\" + \"\\n\"\n",
    "print(c * 2)"
   ]
  },
  {
   "cell_type": "code",
   "execution_count": 4,
   "id": "526fe39d-1d2b-4f9d-9d29-eaf93bde100f",
   "metadata": {},
   "outputs": [
    {
     "name": "stdout",
     "output_type": "stream",
     "text": [
      "====================\n",
      "     영 수 증\n",
      "====================\n",
      "아메리카노 : 16500원\n",
      "라떼 : 7200원\n",
      "허브티 : 13200원\n",
      "====================\n",
      "====================\n",
      "     영 수 증\n",
      "====================\n",
      "아메리카노 : 16500원\n",
      "라떼 : 7200원\n",
      "허브티 : 13200원\n",
      "====================\n",
      "\n",
      "====================\n",
      "     영 수 증\n",
      "====================\n",
      "아메리카노 : 16500원\n",
      "라떼 : 7200원\n",
      "허브티 : 13200원\n",
      "==================== 112\n"
     ]
    }
   ],
   "source": [
    "# 숫자계산\n",
    "p1 = 5500 * 3\n",
    "p2 = 7200 * 1\n",
    "p3 = 6600 * 2\n",
    "\n",
    "# 문자열 계산\n",
    "m1 = \"아메리카노 : \" + str(p1) + \"원\\n\"  #문자랑 숫자는 더할 수 없음. str() => 문자형으로 인식\n",
    "m2 = \"라떼 : \" + str(p2) + \"원\\n\"\n",
    "m3 = \"허브티 : \" + str(p3) + \"원\"\n",
    "title = \"     \" + \"영 수 증\" # 문자와 문자는 더할 수 있다\n",
    "\n",
    "# [출력조합]\n",
    "\n",
    "#방법1\n",
    "print(\"=\" * 20 + \"\\n\" + title + \"\\n\" + \"=\" * 20 + \"\\n\" + str(m1 + m2 + m3) + \"\\n\" + \"=\" * 20)\n",
    "\n",
    "#방법2\n",
    "p4 = \"=\" * 20\n",
    "p5 = title\n",
    "p6 = m1+m2+m3\n",
    "print(p4+\"\\n\"+ p5+\"\\n\"+ p4+\"\\n\"+ p6+\"\\n\"+ p4+\"\\n\")\n",
    "\n",
    "#방법3\n",
    "pp = ''\n",
    "pp += (\"=\" * 20)+'\\n' # 문자랑 숫자는 곱할 수 있다.\n",
    "pp += (title)+'\\n'\n",
    "pp += (\"=\" * 20)+'\\n'\n",
    "pp += (m1+m2+m3)+'\\n'\n",
    "pp += (\"=\" *20)\n",
    "print(pp,len(pp))"
   ]
  },
  {
   "cell_type": "markdown",
   "id": "877af240-92ef-44ea-bf86-abde4db796b1",
   "metadata": {},
   "source": [
    "### 문자열 인덱싱과 슬라이싱"
   ]
  },
  {
   "cell_type": "code",
   "execution_count": 5,
   "id": "71585dbe-888a-4f91-8a78-7379e2244c33",
   "metadata": {},
   "outputs": [
    {
     "name": "stdout",
     "output_type": "stream",
     "text": [
      "17\n",
      "L i f e\n",
      "t o o\n",
      "t r\n"
     ]
    }
   ],
   "source": [
    "a = \"Life is too short\"\n",
    "print(len(a))\n",
    "\n",
    "#Life 출력\n",
    "print(a[0],a[1],a[2],a[3])\n",
    "#too 출력\n",
    "print(a[8],a[9],a[10])\n",
    "#tr 출력\n",
    "print(a[-1],a[-2])"
   ]
  },
  {
   "cell_type": "code",
   "execution_count": 6,
   "id": "767b202a-b7ef-4655-a425-b7202514062f",
   "metadata": {},
   "outputs": [
    {
     "name": "stdout",
     "output_type": "stream",
     "text": [
      "15\n"
     ]
    }
   ],
   "source": [
    "a = \"You need python\"\n",
    "print(len(a))"
   ]
  },
  {
   "cell_type": "code",
   "execution_count": 7,
   "id": "6c5e402a-5808-40aa-af98-079e590659ee",
   "metadata": {},
   "outputs": [
    {
     "name": "stdout",
     "output_type": "stream",
     "text": [
      "too\n",
      "need\n"
     ]
    }
   ],
   "source": [
    "# 0 <= a < 3\n",
    "a = \"Life is too short, You need python\"\n",
    "print(a[8:11]) # 8 <= a < 11\n",
    "print(a[23:27]) # 23 <= a < 27"
   ]
  },
  {
   "cell_type": "code",
   "execution_count": 8,
   "id": "0b1934e2-9c3f-4b87-b61d-4135af664756",
   "metadata": {},
   "outputs": [
    {
     "name": "stdout",
     "output_type": "stream",
     "text": [
      "Life is too short, You need\n"
     ]
    }
   ],
   "source": [
    "print(a[:27])  #print(a[0:27])"
   ]
  },
  {
   "cell_type": "code",
   "execution_count": 9,
   "id": "cff5e5fa-b6d0-4a6f-a2ab-688e12fc7179",
   "metadata": {},
   "outputs": [
    {
     "name": "stdout",
     "output_type": "stream",
     "text": [
      "python\n"
     ]
    }
   ],
   "source": [
    "print(a[28:])"
   ]
  },
  {
   "cell_type": "code",
   "execution_count": 10,
   "id": "228679c2-bea0-4112-ac19-22b610b9df0b",
   "metadata": {},
   "outputs": [
    {
     "name": "stdout",
     "output_type": "stream",
     "text": [
      "nohtyp deen uoY ,trohs oot si efiL\n"
     ]
    }
   ],
   "source": [
    "print(a[::-1])"
   ]
  },
  {
   "cell_type": "code",
   "execution_count": 11,
   "id": "333c583d-6ef5-4f7c-af30-50a0a166ae47",
   "metadata": {},
   "outputs": [
    {
     "name": "stdout",
     "output_type": "stream",
     "text": [
      "20250203\n",
      "오늘은화창하다\n"
     ]
    }
   ],
   "source": [
    "today = \"20250203오늘은화창하다\"\n",
    "num = today[:8] # 0 <= today < 8\n",
    "han = today[8:] # 8 <= today < 끝까\n",
    "print(num)\n",
    "print(han)"
   ]
  },
  {
   "cell_type": "code",
   "execution_count": 12,
   "id": "6b798d20-0118-4b9f-a742-f74d3b545771",
   "metadata": {},
   "outputs": [
    {
     "name": "stdout",
     "output_type": "stream",
     "text": [
      "2025\n",
      "년\n",
      "02\n",
      "월\n",
      "03\n",
      "일\n",
      "오늘은\n",
      "화창하다!\n",
      "!다하창화 은늘오 일30 월20 년5202\n"
     ]
    }
   ],
   "source": [
    "today = \"2025년 02월 03일 오늘은 화창하다!\"\n",
    "a = today[:4]    # 0 <= today < 4\n",
    "b = today[4:5]   # 4 <= today < 5\n",
    "c = today[6:8]   # 6 <= today < 8\n",
    "d = today[8:9]   # 8 <= today < 9\n",
    "e = today[10:12] # 10 <= today < 12\n",
    "f = today[12:13] # 12 <= today < 13\n",
    "g = today[14:17] # 14 <= today < 17\n",
    "h = today[18:]   # 18 <= today < 끝\n",
    "\n",
    "print(a+\"\\n\"+b+\"\\n\"+c+\"\\n\"+d+\"\\n\"+e+\"\\n\"+f+\"\\n\"+g+\"\\n\"+h)\n",
    "print(today[::-1])"
   ]
  },
  {
   "cell_type": "code",
   "execution_count": 13,
   "id": "27e92ab5-5fcc-415a-81c5-bb1ecca283d4",
   "metadata": {},
   "outputs": [
    {
     "name": "stdout",
     "output_type": "stream",
     "text": [
      "한국서 돈벌고 '나 몰라라' 코스트코… 연회비 인상률은 미국의 2배\n",
      "한국서 돈벌고 '나 몰라라' 코스트코… 연회비 인상률은 미국의 3배\n",
      "한국서 돈벌고 '나 몰라라' 코스트코… 연회비 인상률은 미국의 3배\n"
     ]
    }
   ],
   "source": [
    "import requests\n",
    "url = 'https://v.daum.net/v/20250203151815463'\n",
    "res = requests.get(url).text\n",
    "result = res[374:411]\n",
    "out = result[:-2] + '3' + result[-1]\n",
    "print(result)\n",
    "print(out)\n",
    "print(\"한국서 돈벌고 '나 몰라라' 코스트코… 연회비 인상률은 미국의 3배\")"
   ]
  },
  {
   "cell_type": "code",
   "execution_count": 14,
   "id": "985ff135-1adf-4fde-8db7-19f0b0d42f99",
   "metadata": {},
   "outputs": [
    {
     "name": "stdout",
     "output_type": "stream",
     "text": [
      "뿌요의 톡쏘는 일상 : 네이버 블로그\n",
      "뿌요의 톡쏘는 일상 : 네이버 블로그\n"
     ]
    }
   ],
   "source": [
    "#목표출력\n",
    "\n",
    "import requests\n",
    "url = 'https://blog.naver.com/droad777'\n",
    "res = requests.get(url).text\n",
    "print(res[895:915])\n",
    "print(\"뿌요의 톡쏘는 일상 : 네이버 블로그\")"
   ]
  },
  {
   "cell_type": "markdown",
   "id": "a16b89ae-dce4-452e-98a0-12b189a0466e",
   "metadata": {},
   "source": [
    "### 문자열 포매팅"
   ]
  },
  {
   "cell_type": "code",
   "execution_count": 15,
   "id": "862505ed-69a7-4fef-a08e-0c189fa20195",
   "metadata": {},
   "outputs": [
    {
     "name": "stdout",
     "output_type": "stream",
     "text": [
      "I eat 3 apples.\n",
      "I eat 17 apples.\n",
      "I eat five apples.\n"
     ]
    }
   ],
   "source": [
    "print(\"I eat 3 apples.\")\n",
    "print(\"I eat %d apples.\" %17) #숫자형\n",
    "print(\"I eat %s apples.\" %\"five\") #문자"
   ]
  },
  {
   "cell_type": "markdown",
   "id": "999cdbdb-7163-4401-b70e-06864462dfd9",
   "metadata": {},
   "source": [
    "<table>\n",
    "<thead>\n",
    "<tr>\n",
    "<th>코드</th>\n",
    "<th>설명</th>\n",
    "</tr>\n",
    "</thead>\n",
    "<tbody>\n",
    "<tr>\n",
    "<td>%s</td>\n",
    "<td>문자열(String)</td>\n",
    "</tr>\n",
    "<tr>\n",
    "<td>%c</td>\n",
    "<td>문자 1개(character)</td>\n",
    "</tr>\n",
    "<tr>\n",
    "<td>%d</td>\n",
    "<td>정수(Integer)</td>\n",
    "</tr>\n",
    "<tr>\n",
    "<td>%f</td>\n",
    "<td>부동소수(floating-point)</td>\n",
    "</tr>\n",
    "<tr>\n",
    "<td>%o</td>\n",
    "<td>8진수</td>\n",
    "</tr>\n",
    "<tr>\n",
    "<td>%x</td>\n",
    "<td>16진수</td>\n",
    "</tr>\n",
    "<tr>\n",
    "<td>%%</td>\n",
    "<td>Literal % (문자 <code>%</code> 자체)</td>\n",
    "</tr>\n",
    "</tbody>\n",
    "</table>"
   ]
  },
  {
   "cell_type": "code",
   "execution_count": 16,
   "id": "1540547a-222b-4873-868d-be0ee62ed6ee",
   "metadata": {},
   "outputs": [
    {
     "name": "stdout",
     "output_type": "stream",
     "text": [
      "사람 몸의 수분은 60% 이다\n"
     ]
    }
   ],
   "source": [
    "print(\"사람 몸의 수분은 %d%% 이다\" %60) #"
   ]
  },
  {
   "cell_type": "code",
   "execution_count": 17,
   "id": "91b0e260-6573-4595-bc83-85d1f350fd24",
   "metadata": {},
   "outputs": [
    {
     "name": "stdout",
     "output_type": "stream",
     "text": [
      "십진수로는 123은 16진수로 7b이다.\n",
      "십진수로는 123은 8진수로 173이다.\n"
     ]
    }
   ],
   "source": [
    "print(\"십진수로는 %d은 16진수로 %x이다.\" %(123,123))\n",
    "print(\"십진수로는 %d은 8진수로 %o이다.\" %(123,123))"
   ]
  },
  {
   "cell_type": "code",
   "execution_count": 18,
   "id": "3a580baa-24f9-429c-b2db-06ebb1c066de",
   "metadata": {},
   "outputs": [
    {
     "name": "stdout",
     "output_type": "stream",
     "text": [
      "십진수로는 100은 16진수로 64이고 8진수로 144이다.\n"
     ]
    }
   ],
   "source": [
    "print(\"십진수로는 %d은 16진수로 %x이고 8진수로 %o이다.\" %(100,100,100))"
   ]
  },
  {
   "cell_type": "code",
   "execution_count": 19,
   "id": "69a7f512-5a4b-4693-a3d6-d6de28386cb6",
   "metadata": {},
   "outputs": [
    {
     "name": "stdout",
     "output_type": "stream",
     "text": [
      "hi        \n"
     ]
    }
   ],
   "source": [
    "# 정률과 공백 (우측 정렬)\n",
    "print(\"%-10s\" % \"hi\")"
   ]
  },
  {
   "attachments": {},
   "cell_type": "markdown",
   "id": "76926d81-d66c-4807-b8ef-e3673810e197",
   "metadata": {},
   "source": [
    "<img src=\"attachment:b9972659-402b-42a4-aefe-516232d63d55.png\" width=300>"
   ]
  },
  {
   "cell_type": "code",
   "execution_count": null,
   "id": "7c39b4f0-a2be-41aa-9031-a31371275434",
   "metadata": {},
   "outputs": [],
   "source": [
    "# 정률과 공백 (음수일때, 좌측 정렬)\n",
    "print(\"%-10sjane.\" % 'hi')"
   ]
  },
  {
   "cell_type": "code",
   "execution_count": null,
   "id": "4c7a280a-0b7f-4e35-9d11-6f1fcaaf1a21",
   "metadata": {},
   "outputs": [],
   "source": [
    "# 소수점 표현\n",
    "print(\"%0.2f\" %3.141592) \n",
    "# %s(문자)로 출력은 가능하나 계산이 불가함 / 통계나 계산 시 필수\n",
    "print(\"%10.2f\" %3.141592) # 점도 칸에 포함"
   ]
  },
  {
   "cell_type": "markdown",
   "id": "f445eab4-2791-4f38-af6a-fb02df999712",
   "metadata": {},
   "source": [
    "<img src=\"attachment:0bedebde-a3cd-4b40-9fbd-f83a6bc80285.png\" width=300>"
   ]
  },
  {
   "cell_type": "markdown",
   "id": "8747d99a-c0a2-4038-8aa7-d83b25a415a2",
   "metadata": {},
   "source": [
    "### format 함수를 사용한 포매팅"
   ]
  },
  {
   "cell_type": "code",
   "execution_count": 21,
   "id": "f39e6da8-abca-4f33-ad42-c828a8beae63",
   "metadata": {},
   "outputs": [
    {
     "name": "stdout",
     "output_type": "stream",
     "text": [
      "I eat 3 of 10 apples\n"
     ]
    }
   ],
   "source": [
    "# 숫자대입 / print(표현할값.format)\n",
    "print(\"I eat {0} of {1} apples\".format(3,10))"
   ]
  },
  {
   "cell_type": "code",
   "execution_count": 22,
   "id": "ac6c6f37-7521-4f53-9bfa-2f7bf4b8e795",
   "metadata": {},
   "outputs": [
    {
     "name": "stdout",
     "output_type": "stream",
     "text": [
      "I eat three of 10 apples\n"
     ]
    }
   ],
   "source": [
    "# 변수대입, 2개 이상 값\n",
    "total = 10\n",
    "ea = \"three\"\n",
    "print(\"I eat {0} of {1} apples\".format(ea,total))"
   ]
  },
  {
   "cell_type": "code",
   "execution_count": 23,
   "id": "d25bb73b-46e9-4daa-8b77-1ee21474fb1e",
   "metadata": {},
   "outputs": [
    {
     "name": "stdout",
     "output_type": "stream",
     "text": [
      "I eat three of 10 apples\n"
     ]
    }
   ],
   "source": [
    "# 이름으로 넣기\n",
    "print(\"I eat {ea} of {total} apples\".format(ea=\"three\",total=10))"
   ]
  },
  {
   "cell_type": "code",
   "execution_count": 24,
   "id": "5fa7d35b-4372-4a0d-a37d-83467eb9a9e2",
   "metadata": {},
   "outputs": [
    {
     "name": "stdout",
     "output_type": "stream",
     "text": [
      "I eat 10 apples. so I was sick for 3 days.\n"
     ]
    }
   ],
   "source": [
    "# 인덱스와 이름 혼용\n",
    "print(\"I eat {0} apples. so I was sick for {day} days.\".format(10, day=3))"
   ]
  },
  {
   "cell_type": "code",
   "execution_count": 25,
   "id": "bfb2d873-3dbd-40f7-9985-36083c85afa5",
   "metadata": {},
   "outputs": [
    {
     "name": "stdout",
     "output_type": "stream",
     "text": [
      "hi        \n",
      "        hi\n",
      "    hi    \n"
     ]
    }
   ],
   "source": [
    "# 위치 정렬\n",
    "print(\"{0:<10}\".format(\"hi\"))\n",
    "print(\"{0:>10}\".format(\"hi\"))\n",
    "print(\"{0:^10}\".format(\"hi\"))"
   ]
  },
  {
   "cell_type": "code",
   "execution_count": 26,
   "id": "b30c0c9c-d9ac-4a32-b7b0-424537bf5645",
   "metadata": {},
   "outputs": [
    {
     "name": "stdout",
     "output_type": "stream",
     "text": [
      "====hi====\n",
      "ㅋㅋㅋㅋㅋㅋㅋㅋㅋ웃겨ㅋㅋㅋㅋㅋㅋㅋㅋㅋ\n"
     ]
    }
   ],
   "source": [
    "# 공백 채우기\n",
    "print(\"{0:=^10}\".format(\"hi\"))\n",
    "print(\"{0:ㅋ^20}\".format(\"웃겨\"))"
   ]
  },
  {
   "cell_type": "code",
   "execution_count": 27,
   "id": "496c55e7-1448-4b02-b313-afd8aff960f9",
   "metadata": {},
   "outputs": [
    {
     "name": "stdout",
     "output_type": "stream",
     "text": [
      "              3.1416\n"
     ]
    }
   ],
   "source": [
    "# 소수점 표현\n",
    "pi = 3.141592\n",
    "print(\"{0:20.4f}\".format(pi))"
   ]
  },
  {
   "cell_type": "code",
   "execution_count": 28,
   "id": "fa74f32a-6720-457e-a170-617417cee6ff",
   "metadata": {},
   "outputs": [
    {
     "name": "stdout",
     "output_type": "stream",
     "text": [
      "중괄호는 {과} 입니다.\n"
     ]
    }
   ],
   "source": [
    "# 이스케이프 처리\n",
    "print(\"{0}는 {{과}} 입니다.\".format(\"중괄호\"))"
   ]
  },
  {
   "cell_type": "code",
   "execution_count": 29,
   "id": "44132f3a-f071-4cd2-8429-9470123e652c",
   "metadata": {},
   "outputs": [
    {
     "name": "stdout",
     "output_type": "stream",
     "text": [
      "01111011\n"
     ]
    }
   ],
   "source": [
    "# 2진수 처리\n",
    "print(\"{0:0>8b}\".format(123))"
   ]
  },
  {
   "cell_type": "markdown",
   "id": "ecb58495-89a3-4820-bcb6-5fc0335b2b4d",
   "metadata": {},
   "source": [
    "### f문자열 포매팅"
   ]
  },
  {
   "cell_type": "code",
   "execution_count": 30,
   "id": "355f3e66-ef04-458b-86ed-c30a9227ef83",
   "metadata": {},
   "outputs": [
    {
     "name": "stdout",
     "output_type": "stream",
     "text": [
      "나의 이름은 박수민입니다. 나이는 24입니다.\n",
      "내년에는 25 살이 됩니다.\n"
     ]
    }
   ],
   "source": [
    "# \" \".format() -> f\" \"\n",
    "name = \"박수민\"\n",
    "age = 24\n",
    "print(f\"나의 이름은 {name}입니다. 나이는 {age}입니다.\")\n",
    "print(f\"내년에는 {age+1} 살이 됩니다.\")"
   ]
  },
  {
   "cell_type": "code",
   "execution_count": 31,
   "id": "5b57c2bd-6dfc-4180-bee2-954eb2f349ab",
   "metadata": {},
   "outputs": [
    {
     "name": "stdout",
     "output_type": "stream",
     "text": [
      "나의 이름은 박수민 입니다. 나이는 24 입니다. 성별은 male 입니다.\n"
     ]
    }
   ],
   "source": [
    "d = {'name' : '박수민','age' : 24, 'gen' : 'male'}\n",
    "print(f'나의 이름은 {d[\"name\"]} 입니다. 나이는 {d[\"age\"]} 입니다. 성별은 {d[\"gen\"]} 입니다.')"
   ]
  },
  {
   "cell_type": "code",
   "execution_count": 32,
   "id": "b45200fa-5f7e-445b-b21c-155277b64994",
   "metadata": {},
   "outputs": [
    {
     "name": "stdout",
     "output_type": "stream",
     "text": [
      "hi        \n",
      "        hi\n",
      "    hi    \n"
     ]
    }
   ],
   "source": [
    "# 위치 정렬\n",
    "print(f'{\"hi\":<10}')\n",
    "print(f'{\"hi\":>10}')\n",
    "print(f'{\"hi\":^10}')"
   ]
  },
  {
   "cell_type": "code",
   "execution_count": 33,
   "id": "b2b786ed-2a31-40fd-96a7-04d1be65cfa5",
   "metadata": {},
   "outputs": [
    {
     "name": "stdout",
     "output_type": "stream",
     "text": [
      "====hi====\n",
      "hi!!!!!!!!\n"
     ]
    }
   ],
   "source": [
    "print(f'{\"hi\":=^10}')\n",
    "print(f'{\"hi\":!<10}')"
   ]
  },
  {
   "cell_type": "code",
   "execution_count": 34,
   "id": "ac677b83-bb37-4b1d-82c7-6e0d0492af77",
   "metadata": {},
   "outputs": [
    {
     "name": "stdout",
     "output_type": "stream",
     "text": [
      "3.4213\n",
      "    3.4213\n"
     ]
    }
   ],
   "source": [
    "y = 3.42134234\n",
    "print(f'{y:0.4f}')\n",
    "print(f'{y:10.4f}')"
   ]
  },
  {
   "cell_type": "code",
   "execution_count": 35,
   "id": "456716b7-f765-4865-8bb3-b58260248bf7",
   "metadata": {},
   "outputs": [
    {
     "name": "stdout",
     "output_type": "stream",
     "text": [
      "{and}\n"
     ]
    }
   ],
   "source": [
    "print(f'{{and}}')"
   ]
  },
  {
   "cell_type": "code",
   "execution_count": 36,
   "id": "c5852eaf-8096-4ded-81b4-41533b64408a",
   "metadata": {},
   "outputs": [
    {
     "name": "stdout",
     "output_type": "stream",
     "text": [
      "!!!python!!!\n"
     ]
    }
   ],
   "source": [
    "print(f'{\"python\":!^12}')"
   ]
  },
  {
   "cell_type": "markdown",
   "id": "ca08a9d9-bb35-45ae-9333-985b989d0daa",
   "metadata": {},
   "source": [
    "### 문자열 관련 함수들"
   ]
  },
  {
   "cell_type": "code",
   "execution_count": 37,
   "id": "dba3924b-9a46-48a6-a4b8-24a7cd255789",
   "metadata": {},
   "outputs": [
    {
     "data": {
      "text/plain": [
       "2"
      ]
     },
     "execution_count": 37,
     "metadata": {},
     "output_type": "execute_result"
    }
   ],
   "source": [
    "# 문자 개수 세기 count\n",
    "a = \"hobby\"\n",
    "a.count('b')"
   ]
  },
  {
   "cell_type": "code",
   "execution_count": 38,
   "id": "85b39f07-7c09-44dc-9b3a-999fdec60889",
   "metadata": {},
   "outputs": [
    {
     "name": "stdout",
     "output_type": "stream",
     "text": [
      "한국서 돈벌고 '나 몰라라' 코스트코… 연회비 인상률은 미국의 3배\n",
      "1\n"
     ]
    }
   ],
   "source": [
    "import requests\n",
    "url = 'https://v.daum.net/v/20250203151815463'\n",
    "res = requests.get(url).text\n",
    "result = res[374:411]\n",
    "out = result[:-2] + '3' + result[-1]\n",
    "print(out)\n",
    "print(out.count('한국'))"
   ]
  },
  {
   "cell_type": "code",
   "execution_count": 39,
   "id": "6f348edf-9618-4eb3-a402-28ebec432bdf",
   "metadata": {},
   "outputs": [
    {
     "name": "stdout",
     "output_type": "stream",
     "text": [
      "한국서 돈벌고 '나 몰라라' 코스트코… 연회비 인상률은 미국의 3배\n",
      "16\n",
      "-1\n"
     ]
    }
   ],
   "source": [
    "# 위치 알려주기 find\n",
    "print(out)\n",
    "print(out.find('코'))\n",
    "print(out.find('밥'))"
   ]
  },
  {
   "cell_type": "code",
   "execution_count": 40,
   "id": "9cbb97b3-84e0-43f9-8043-18233d356b66",
   "metadata": {},
   "outputs": [
    {
     "name": "stdout",
     "output_type": "stream",
     "text": [
      "374\n"
     ]
    }
   ],
   "source": [
    "import requests\n",
    "url = 'https://v.daum.net/v/20250203151815463'\n",
    "res = requests.get(url).text\n",
    "print(res.find('한'))"
   ]
  },
  {
   "cell_type": "code",
   "execution_count": 41,
   "id": "6b664d10-8c12-47c4-b2db-aebd54220bfd",
   "metadata": {},
   "outputs": [
    {
     "name": "stdout",
     "output_type": "stream",
     "text": [
      "41529\n",
      "좋아하는 노래 제목: toxic till the end\n"
     ]
    }
   ],
   "source": [
    "import requests\n",
    "url = 'https://music.apple.com/kr/playlist/%EC%98%A4%EB%8A%98%EC%9D%98-top-100-%EB%8C%80%ED%95%9C%EB%AF%BC%EA%B5%AD/pl.d3d10c32fbc540b38e266367dc8cb00c' \n",
    "res = requests.get(url).text\n",
    "print(res.find('toxic till the end'))\n",
    "# print(res.index('toxic till the end')) #없으면 오류발생\n",
    "print('좋아하는 노래 제목:', res[41529:41547])"
   ]
  },
  {
   "cell_type": "code",
   "execution_count": 42,
   "id": "8223a08d-12f6-4120-ac25-af772d2654c3",
   "metadata": {},
   "outputs": [
    {
     "data": {
      "text/plain": [
       "['__add__',\n",
       " '__class__',\n",
       " '__contains__',\n",
       " '__delattr__',\n",
       " '__dir__',\n",
       " '__doc__',\n",
       " '__eq__',\n",
       " '__format__',\n",
       " '__ge__',\n",
       " '__getattribute__',\n",
       " '__getitem__',\n",
       " '__getnewargs__',\n",
       " '__getstate__',\n",
       " '__gt__',\n",
       " '__hash__',\n",
       " '__init__',\n",
       " '__init_subclass__',\n",
       " '__iter__',\n",
       " '__le__',\n",
       " '__len__',\n",
       " '__lt__',\n",
       " '__mod__',\n",
       " '__mul__',\n",
       " '__ne__',\n",
       " '__new__',\n",
       " '__reduce__',\n",
       " '__reduce_ex__',\n",
       " '__repr__',\n",
       " '__rmod__',\n",
       " '__rmul__',\n",
       " '__setattr__',\n",
       " '__sizeof__',\n",
       " '__str__',\n",
       " '__subclasshook__',\n",
       " 'capitalize',\n",
       " 'casefold',\n",
       " 'center',\n",
       " 'count',\n",
       " 'encode',\n",
       " 'endswith',\n",
       " 'expandtabs',\n",
       " 'find',\n",
       " 'format',\n",
       " 'format_map',\n",
       " 'index',\n",
       " 'isalnum',\n",
       " 'isalpha',\n",
       " 'isascii',\n",
       " 'isdecimal',\n",
       " 'isdigit',\n",
       " 'isidentifier',\n",
       " 'islower',\n",
       " 'isnumeric',\n",
       " 'isprintable',\n",
       " 'isspace',\n",
       " 'istitle',\n",
       " 'isupper',\n",
       " 'join',\n",
       " 'ljust',\n",
       " 'lower',\n",
       " 'lstrip',\n",
       " 'maketrans',\n",
       " 'partition',\n",
       " 'removeprefix',\n",
       " 'removesuffix',\n",
       " 'replace',\n",
       " 'rfind',\n",
       " 'rindex',\n",
       " 'rjust',\n",
       " 'rpartition',\n",
       " 'rsplit',\n",
       " 'rstrip',\n",
       " 'split',\n",
       " 'splitlines',\n",
       " 'startswith',\n",
       " 'strip',\n",
       " 'swapcase',\n",
       " 'title',\n",
       " 'translate',\n",
       " 'upper',\n",
       " 'zfill']"
      ]
     },
     "execution_count": 42,
     "metadata": {},
     "output_type": "execute_result"
    }
   ],
   "source": [
    "dir(str)"
   ]
  },
  {
   "cell_type": "code",
   "execution_count": 43,
   "id": "dbbb8add-54a7-4c85-8d37-fc99ec464b1c",
   "metadata": {},
   "outputs": [
    {
     "name": "stdout",
     "output_type": "stream",
     "text": [
      "a,b,c,d,e,f,g\n",
      "a,b,c,d,e\n"
     ]
    }
   ],
   "source": [
    "# *문자열 삽입 join*\n",
    "# 리스트,튜플을 문자열로\n",
    "print(\",\".join(\"abcdefg\"))\n",
    "print(\",\".join(['a','b','c','d','e']))"
   ]
  },
  {
   "cell_type": "code",
   "execution_count": 44,
   "id": "ee3fcd99-4777-4dba-8a6b-2334ba8f79ce",
   "metadata": {},
   "outputs": [
    {
     "name": "stdout",
     "output_type": "stream",
     "text": [
      "HI\n"
     ]
    }
   ],
   "source": [
    "# 소문자>대문자 upper\n",
    "a = \"hi\"\n",
    "print(a.upper())"
   ]
  },
  {
   "cell_type": "code",
   "execution_count": 45,
   "id": "565a755a-4f06-4ccc-8ce4-bdcfbba575e7",
   "metadata": {},
   "outputs": [
    {
     "name": "stdout",
     "output_type": "stream",
     "text": [
      "hi\n"
     ]
    }
   ],
   "source": [
    "# 대문자>소문자 lower\n",
    "a = \"HI\"\n",
    "print(a.lower())"
   ]
  },
  {
   "cell_type": "code",
   "execution_count": 46,
   "id": "7651e861-ba54-48cc-8934-804ff7b7f26a",
   "metadata": {},
   "outputs": [
    {
     "name": "stdout",
     "output_type": "stream",
     "text": [
      "life id Egg\n",
      "LIFE ID EGG\n",
      "life id egg\n"
     ]
    }
   ],
   "source": [
    "# 연습\n",
    "v = \"life id Egg\"\n",
    "big = v.upper()\n",
    "small = v.lower()\n",
    "print(v)\n",
    "print(big)\n",
    "print(small)"
   ]
  },
  {
   "cell_type": "code",
   "execution_count": 47,
   "id": "d6b020d8-a193-4c53-8c08-058da7c36b91",
   "metadata": {},
   "outputs": [
    {
     "name": "stdout",
     "output_type": "stream",
     "text": [
      "        hi        \n",
      "hi        \n",
      "        hi\n",
      "hi\n"
     ]
    }
   ],
   "source": [
    "# 공백 지우기\n",
    "a = \"        hi        \"\n",
    "print(a)\n",
    "print(a.lstrip())\n",
    "print(a.rstrip())\n",
    "print(a.strip())"
   ]
  },
  {
   "cell_type": "code",
   "execution_count": 48,
   "id": "73a927a0-0b14-4eb0-8b00-27dd7363c620",
   "metadata": {},
   "outputs": [
    {
     "name": "stdout",
     "output_type": "stream",
     "text": [
      "hi:^20\n",
      "hi:^20\n",
      "hi:^20\n",
      "hi:^20\n"
     ]
    }
   ],
   "source": [
    "f = f\"{\"hi:^20\"}\"\n",
    "f1 = f.lstrip()\n",
    "f2 = f.rstrip()\n",
    "f3 = f.strip()\n",
    "print(f)\n",
    "print(f1)\n",
    "print(f2)\n",
    "print(f3)"
   ]
  },
  {
   "cell_type": "code",
   "execution_count": 49,
   "id": "979bb2e0-3adb-43cc-8b88-980e8cda1281",
   "metadata": {},
   "outputs": [
    {
     "name": "stdout",
     "output_type": "stream",
     "text": [
      "Life is Egg\n",
      "Life is beautiful\n"
     ]
    }
   ],
   "source": [
    "# 문자열 바꾸기 replace **\n",
    "a = \"Life is Egg\"\n",
    "c = a.replace(\"Egg\",\"beautiful\")\n",
    "print(a)\n",
    "print(c)"
   ]
  },
  {
   "cell_type": "code",
   "execution_count": 50,
   "id": "bb2b07b4-8dcb-400f-beb5-beecdff20d53",
   "metadata": {},
   "outputs": [
    {
     "name": "stdout",
     "output_type": "stream",
     "text": [
      "['Life', 'is', 'Egg']\n",
      "['Life is Egg']\n",
      "['a', 'b', 'c', 'd']\n"
     ]
    }
   ],
   "source": [
    "# 문자열 나누기 split *\n",
    "# 문자열을 배열로\n",
    "a = \"Life is Egg\"\n",
    "aa = a.split()\n",
    "cc = a.split('-')\n",
    "print(aa)\n",
    "print(cc)\n",
    "b = \"a:b:c:d\"\n",
    "bb = b.split(':')\n",
    "print(bb)"
   ]
  },
  {
   "cell_type": "code",
   "execution_count": 51,
   "id": "4f831f8f-7999-42ee-90d6-9ee75fa4fe12",
   "metadata": {},
   "outputs": [
    {
     "name": "stdout",
     "output_type": "stream",
     "text": [
      "['abcdefghi']\n",
      "a=b=c=d=e=f=g=h=i\n",
      "['a', 'b', 'c', 'd', 'e', 'f', 'g', 'h', 'i']\n",
      "abcdefghi\n"
     ]
    }
   ],
   "source": [
    "# 연습\n",
    "ex = \"abcdefghi\"\n",
    "ex2 = ex.split()\n",
    "print(ex2)\n",
    "ex_join = \"=\".join(ex)\n",
    "print(ex_join)\n",
    "ex_split = ex_join.split(\"=\")\n",
    "print(ex_split)\n",
    "ex_replace = ex_join.replace(\"=\",\"\")\n",
    "print(ex_replace)"
   ]
  }
 ],
 "metadata": {
  "kernelspec": {
   "display_name": "Python 3 (ipykernel)",
   "language": "python",
   "name": "python3"
  },
  "language_info": {
   "codemirror_mode": {
    "name": "ipython",
    "version": 3
   },
   "file_extension": ".py",
   "mimetype": "text/x-python",
   "name": "python",
   "nbconvert_exporter": "python",
   "pygments_lexer": "ipython3",
   "version": "3.13.1"
  }
 },
 "nbformat": 4,
 "nbformat_minor": 5
}
